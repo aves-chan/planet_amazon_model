{
 "cells": [
  {
   "cell_type": "code",
   "execution_count": 6,
   "id": "04605758-3bec-4f58-86e8-013ab7dc3d13",
   "metadata": {},
   "outputs": [],
   "source": [
    "import os\n",
    "import pandas as pd\n",
    "import numpy as np\n",
    "import matplotlib.pyplot as plt"
   ]
  },
  {
   "cell_type": "code",
   "execution_count": 40,
   "id": "7448f632-a024-4eec-b292-16eac84ba7b8",
   "metadata": {},
   "outputs": [
    {
     "name": "stdout",
     "output_type": "stream",
     "text": [
      "df_train_ohe.csv      \u001b[34mtest-jpg\u001b[m\u001b[m              train_classes.csv\n",
      "sample_submission.csv \u001b[34mtrain-jpg\u001b[m\u001b[m\n"
     ]
    }
   ],
   "source": [
    "DATA_FOLDER = '/Users/vsevolodanisuk/PycharmProjects/planet_amazon_model/dataset/planet/planet/'\n",
    "!ls {DATA_FOLDER}"
   ]
  },
  {
   "cell_type": "code",
   "execution_count": 41,
   "id": "aef3f926-4834-4719-9463-2ee09f956c7d",
   "metadata": {},
   "outputs": [
    {
     "name": "stdout",
     "output_type": "stream",
     "text": [
      "  image_name                                       tags\n",
      "0    train_0                               haze primary\n",
      "1    train_1            agriculture clear primary water\n",
      "2    train_2                              clear primary\n",
      "3    train_3                              clear primary\n",
      "4    train_4  agriculture clear habitation primary road\n",
      "\n",
      "\n",
      "       image_name           tags\n",
      "count       40479          40479\n",
      "unique      40479            449\n",
      "top       train_0  clear primary\n",
      "freq            1          13636\n",
      "\n",
      "\n",
      "(40479, 2)\n"
     ]
    }
   ],
   "source": [
    "df = pd.read_csv(os.path.join(DATA_FOLDER, 'train_classes.csv'))\n",
    "print(df.head())\n",
    "print('\\n')\n",
    "print(df.describe())\n",
    "print('\\n')\n",
    "print(df.shape)"
   ]
  },
  {
   "cell_type": "code",
   "execution_count": 42,
   "id": "cd5e6154-c288-4450-b219-dc25ec7b234b",
   "metadata": {},
   "outputs": [
    {
     "data": {
      "text/plain": [
       "['haze',\n",
       " 'primary',\n",
       " 'agriculture',\n",
       " 'clear',\n",
       " 'water',\n",
       " 'habitation',\n",
       " 'road',\n",
       " 'cultivation',\n",
       " 'slash_burn',\n",
       " 'cloudy',\n",
       " 'partly_cloudy',\n",
       " 'conventional_mine',\n",
       " 'bare_ground',\n",
       " 'artisinal_mine',\n",
       " 'blooming',\n",
       " 'selective_logging',\n",
       " 'blow_down']"
      ]
     },
     "execution_count": 42,
     "metadata": {},
     "output_type": "execute_result"
    }
   ],
   "source": [
    "total_tags = []\n",
    "for i in range(df.shape[0]):\n",
    "    for n in df['tags'][i].split(' '):\n",
    "        if not n in total_tags:\n",
    "            total_tags.append(n)\n",
    "total_tags"
   ]
  },
  {
   "cell_type": "code",
   "execution_count": 43,
   "id": "9f4a09c7-519d-41fa-ae79-7cc09362b3b2",
   "metadata": {},
   "outputs": [
    {
     "data": {
      "text/html": [
       "<div>\n",
       "<style scoped>\n",
       "    .dataframe tbody tr th:only-of-type {\n",
       "        vertical-align: middle;\n",
       "    }\n",
       "\n",
       "    .dataframe tbody tr th {\n",
       "        vertical-align: top;\n",
       "    }\n",
       "\n",
       "    .dataframe thead th {\n",
       "        text-align: right;\n",
       "    }\n",
       "</style>\n",
       "<table border=\"1\" class=\"dataframe\">\n",
       "  <thead>\n",
       "    <tr style=\"text-align: right;\">\n",
       "      <th></th>\n",
       "      <th>Id</th>\n",
       "      <th>haze</th>\n",
       "      <th>primary</th>\n",
       "      <th>agriculture</th>\n",
       "      <th>clear</th>\n",
       "      <th>water</th>\n",
       "      <th>habitation</th>\n",
       "      <th>road</th>\n",
       "      <th>cultivation</th>\n",
       "      <th>slash_burn</th>\n",
       "      <th>cloudy</th>\n",
       "      <th>partly_cloudy</th>\n",
       "      <th>conventional_mine</th>\n",
       "      <th>bare_ground</th>\n",
       "      <th>artisinal_mine</th>\n",
       "      <th>blooming</th>\n",
       "      <th>selective_logging</th>\n",
       "      <th>blow_down</th>\n",
       "    </tr>\n",
       "  </thead>\n",
       "  <tbody>\n",
       "    <tr>\n",
       "      <th>0</th>\n",
       "      <td>train_0</td>\n",
       "      <td>1</td>\n",
       "      <td>1</td>\n",
       "      <td>0</td>\n",
       "      <td>0</td>\n",
       "      <td>0</td>\n",
       "      <td>0</td>\n",
       "      <td>0</td>\n",
       "      <td>0</td>\n",
       "      <td>0</td>\n",
       "      <td>0</td>\n",
       "      <td>0</td>\n",
       "      <td>0</td>\n",
       "      <td>0</td>\n",
       "      <td>0</td>\n",
       "      <td>0</td>\n",
       "      <td>0</td>\n",
       "      <td>0</td>\n",
       "    </tr>\n",
       "    <tr>\n",
       "      <th>1</th>\n",
       "      <td>train_1</td>\n",
       "      <td>0</td>\n",
       "      <td>1</td>\n",
       "      <td>1</td>\n",
       "      <td>1</td>\n",
       "      <td>1</td>\n",
       "      <td>0</td>\n",
       "      <td>0</td>\n",
       "      <td>0</td>\n",
       "      <td>0</td>\n",
       "      <td>0</td>\n",
       "      <td>0</td>\n",
       "      <td>0</td>\n",
       "      <td>0</td>\n",
       "      <td>0</td>\n",
       "      <td>0</td>\n",
       "      <td>0</td>\n",
       "      <td>0</td>\n",
       "    </tr>\n",
       "    <tr>\n",
       "      <th>2</th>\n",
       "      <td>train_2</td>\n",
       "      <td>0</td>\n",
       "      <td>1</td>\n",
       "      <td>0</td>\n",
       "      <td>1</td>\n",
       "      <td>0</td>\n",
       "      <td>0</td>\n",
       "      <td>0</td>\n",
       "      <td>0</td>\n",
       "      <td>0</td>\n",
       "      <td>0</td>\n",
       "      <td>0</td>\n",
       "      <td>0</td>\n",
       "      <td>0</td>\n",
       "      <td>0</td>\n",
       "      <td>0</td>\n",
       "      <td>0</td>\n",
       "      <td>0</td>\n",
       "    </tr>\n",
       "    <tr>\n",
       "      <th>3</th>\n",
       "      <td>train_3</td>\n",
       "      <td>0</td>\n",
       "      <td>1</td>\n",
       "      <td>0</td>\n",
       "      <td>1</td>\n",
       "      <td>0</td>\n",
       "      <td>0</td>\n",
       "      <td>0</td>\n",
       "      <td>0</td>\n",
       "      <td>0</td>\n",
       "      <td>0</td>\n",
       "      <td>0</td>\n",
       "      <td>0</td>\n",
       "      <td>0</td>\n",
       "      <td>0</td>\n",
       "      <td>0</td>\n",
       "      <td>0</td>\n",
       "      <td>0</td>\n",
       "    </tr>\n",
       "    <tr>\n",
       "      <th>4</th>\n",
       "      <td>train_4</td>\n",
       "      <td>0</td>\n",
       "      <td>1</td>\n",
       "      <td>1</td>\n",
       "      <td>1</td>\n",
       "      <td>0</td>\n",
       "      <td>1</td>\n",
       "      <td>1</td>\n",
       "      <td>0</td>\n",
       "      <td>0</td>\n",
       "      <td>0</td>\n",
       "      <td>0</td>\n",
       "      <td>0</td>\n",
       "      <td>0</td>\n",
       "      <td>0</td>\n",
       "      <td>0</td>\n",
       "      <td>0</td>\n",
       "      <td>0</td>\n",
       "    </tr>\n",
       "  </tbody>\n",
       "</table>\n",
       "</div>"
      ],
      "text/plain": [
       "        Id  haze  primary  agriculture  clear  water  habitation  road  \\\n",
       "0  train_0     1        1            0      0      0           0     0   \n",
       "1  train_1     0        1            1      1      1           0     0   \n",
       "2  train_2     0        1            0      1      0           0     0   \n",
       "3  train_3     0        1            0      1      0           0     0   \n",
       "4  train_4     0        1            1      1      0           1     1   \n",
       "\n",
       "   cultivation  slash_burn  cloudy  partly_cloudy  conventional_mine  \\\n",
       "0            0           0       0              0                  0   \n",
       "1            0           0       0              0                  0   \n",
       "2            0           0       0              0                  0   \n",
       "3            0           0       0              0                  0   \n",
       "4            0           0       0              0                  0   \n",
       "\n",
       "   bare_ground  artisinal_mine  blooming  selective_logging  blow_down  \n",
       "0            0               0         0                  0          0  \n",
       "1            0               0         0                  0          0  \n",
       "2            0               0         0                  0          0  \n",
       "3            0               0         0                  0          0  \n",
       "4            0               0         0                  0          0  "
      ]
     },
     "execution_count": 43,
     "metadata": {},
     "output_type": "execute_result"
    }
   ],
   "source": [
    "new_df_dict = {\n",
    "    'Id': []\n",
    "}\n",
    "for tag in total_tags:\n",
    "    new_df_dict[tag] = []\n",
    "\n",
    "for i in range(df.shape[0]):\n",
    "    new_df_dict['Id'].append(df['image_name'][i])\n",
    "    for n in total_tags:\n",
    "        if n in df['tags'][i]:\n",
    "            new_df_dict[n].append(1)\n",
    "        else:\n",
    "            new_df_dict[n].append(0)\n",
    "\n",
    "new_df = df.from_dict(new_df_dict)\n",
    "new_df.head()"
   ]
  },
  {
   "cell_type": "code",
   "execution_count": 44,
   "id": "e1904a83-cea3-48ec-afb0-1b9a3f106c4b",
   "metadata": {},
   "outputs": [
    {
     "data": {
      "text/plain": [
       "(40479, 18)"
      ]
     },
     "execution_count": 44,
     "metadata": {},
     "output_type": "execute_result"
    }
   ],
   "source": [
    "new_df.shape"
   ]
  },
  {
   "cell_type": "code",
   "execution_count": 45,
   "id": "8caf0189-990d-4b87-8103-3f9a858b313c",
   "metadata": {},
   "outputs": [
    {
     "data": {
      "text/plain": [
       "17"
      ]
     },
     "execution_count": 45,
     "metadata": {},
     "output_type": "execute_result"
    }
   ],
   "source": [
    "len(total_tags)"
   ]
  },
  {
   "cell_type": "code",
   "execution_count": 46,
   "id": "b3a1921d-d29c-4155-87b7-3c16cb46c2a9",
   "metadata": {},
   "outputs": [],
   "source": [
    "all_classes = []\n",
    "for classes_list in df['tags']:\n",
    "    all_classes.extend(classes_list.split(','))"
   ]
  },
  {
   "cell_type": "code",
   "execution_count": 47,
   "id": "20c030e4-3a72-40de-8c56-f0881146c7e0",
   "metadata": {},
   "outputs": [
    {
     "data": {
      "text/plain": [
       "{'haze': 2697,\n",
       " 'primary': 37513,\n",
       " 'agriculture': 12315,\n",
       " 'clear': 28431,\n",
       " 'water': 7411,\n",
       " 'habitation': 3660,\n",
       " 'road': 8071,\n",
       " 'cultivation': 4477,\n",
       " 'slash_burn': 209,\n",
       " 'cloudy': 9350,\n",
       " 'partly_cloudy': 7261,\n",
       " 'conventional_mine': 100,\n",
       " 'bare_ground': 862,\n",
       " 'artisinal_mine': 339,\n",
       " 'blooming': 332,\n",
       " 'selective_logging': 340,\n",
       " 'blow_down': 98}"
      ]
     },
     "execution_count": 47,
     "metadata": {},
     "output_type": "execute_result"
    }
   ],
   "source": [
    "dict_class_counts = {}\n",
    "\n",
    "for tag in total_tags:\n",
    "    result = len(new_df[new_df[tag] == 1])\n",
    "    dict_class_counts[tag] = result\n",
    "    \n",
    "dict_class_counts"
   ]
  },
  {
   "cell_type": "code",
   "execution_count": 48,
   "id": "9714833b-1075-4a8a-963d-4b489579ce3b",
   "metadata": {},
   "outputs": [
    {
     "data": {
      "text/plain": [
       "([0, 1, 2, 3, 4, 5, 6, 7, 8, 9, 10, 11, 12, 13, 14, 15, 16],\n",
       " [Text(0, 0, 'agriculture'),\n",
       "  Text(1, 0, 'artisinal_mine'),\n",
       "  Text(2, 0, 'bare_ground'),\n",
       "  Text(3, 0, 'blooming'),\n",
       "  Text(4, 0, 'blow_down'),\n",
       "  Text(5, 0, 'clear'),\n",
       "  Text(6, 0, 'cloudy'),\n",
       "  Text(7, 0, 'conventional_mine'),\n",
       "  Text(8, 0, 'cultivation'),\n",
       "  Text(9, 0, 'habitation'),\n",
       "  Text(10, 0, 'haze'),\n",
       "  Text(11, 0, 'partly_cloudy'),\n",
       "  Text(12, 0, 'primary'),\n",
       "  Text(13, 0, 'road'),\n",
       "  Text(14, 0, 'selective_logging'),\n",
       "  Text(15, 0, 'slash_burn'),\n",
       "  Text(16, 0, 'water')])"
      ]
     },
     "execution_count": 48,
     "metadata": {},
     "output_type": "execute_result"
    },
    {
     "data": {
      "image/png": "[encoded data removed]",
      "text/plain": [
       "<Figure size 640x480 with 1 Axes>"
      ]
     },
     "metadata": {},
     "output_type": "display_data"
    }
   ],
   "source": [
    "class_names = list(dict_class_counts.keys())\n",
    "class_counts = list(dict_class_counts.values())\n",
    "\n",
    "class_names.sort()\n",
    "class_counts.sort()\n",
    "\n",
    "plt.bar(class_names, class_counts)\n",
    "plt.xticks(rotation=90)"
   ]
  },
  {
   "cell_type": "code",
   "execution_count": 54,
   "id": "dd61ccd5-5c06-49e8-acda-576fdb0d16b2",
   "metadata": {},
   "outputs": [
    {
     "name": "stdout",
     "output_type": "stream",
     "text": [
      "middle_class_counts=13502\n"
     ]
    }
   ],
   "source": [
    "middle_class_counts = 0\n",
    "for i in class_counts:\n",
    "    middle_class_counts += i\n",
    "middle_class_counts = middle_class_counts // len(class_counts)\n",
    "print(f'{middle_class_counts=}')\n",
    "\n",
    "\n",
    "dict_class_counts2 = dict_class_counts\n",
    "for class_name in dict_class_counts2:\n",
    "    if dict_class_counts2[class_name] < middle_class_counts:\n",
    "        while (dict_class_counts2[class_name] < middle_class_counts):\n",
    "            rows_to_duplicate = new_df[new_df[class_name] == 1]\n",
    "            new_df2 = pd.concat([new_df, rows_to_duplicate], ignore_index=True)\n",
    "            dict_class_counts2[class_name] = dict_class_counts2[class_name] + dict_class_counts2[class_name]"
   ]
  },
  {
   "cell_type": "code",
   "execution_count": 51,
   "id": "a0f0e3e7-cee4-4e57-b06c-3ac7af9e5fa6",
   "metadata": {},
   "outputs": [
    {
     "data": {
      "text/plain": [
       "{'haze': 10788,\n",
       " 'primary': 37513,\n",
       " 'agriculture': 12315,\n",
       " 'clear': 28431,\n",
       " 'water': 7411,\n",
       " 'habitation': 7320,\n",
       " 'road': 8071,\n",
       " 'cultivation': 8954,\n",
       " 'slash_burn': 13376,\n",
       " 'cloudy': 9350,\n",
       " 'partly_cloudy': 14522,\n",
       " 'conventional_mine': 12800,\n",
       " 'bare_ground': 13792,\n",
       " 'artisinal_mine': 10848,\n",
       " 'blooming': 10624,\n",
       " 'selective_logging': 10880,\n",
       " 'blow_down': 12544}"
      ]
     },
     "execution_count": 51,
     "metadata": {},
     "output_type": "execute_result"
    }
   ],
   "source": [
    "dict_class_counts2"
   ]
  },
  {
   "cell_type": "code",
   "execution_count": 52,
   "id": "23e5f3fe-272b-4f36-b46c-0daf84e86756",
   "metadata": {},
   "outputs": [
    {
     "data": {
      "text/plain": [
       "([0, 1, 2, 3, 4, 5, 6, 7, 8, 9, 10, 11, 12, 13, 14, 15, 16],\n",
       " [Text(0, 0, 'agriculture'),\n",
       "  Text(1, 0, 'artisinal_mine'),\n",
       "  Text(2, 0, 'bare_ground'),\n",
       "  Text(3, 0, 'blooming'),\n",
       "  Text(4, 0, 'blow_down'),\n",
       "  Text(5, 0, 'clear'),\n",
       "  Text(6, 0, 'cloudy'),\n",
       "  Text(7, 0, 'conventional_mine'),\n",
       "  Text(8, 0, 'cultivation'),\n",
       "  Text(9, 0, 'habitation'),\n",
       "  Text(10, 0, 'haze'),\n",
       "  Text(11, 0, 'partly_cloudy'),\n",
       "  Text(12, 0, 'primary'),\n",
       "  Text(13, 0, 'road'),\n",
       "  Text(14, 0, 'selective_logging'),\n",
       "  Text(15, 0, 'slash_burn'),\n",
       "  Text(16, 0, 'water')])"
      ]
     },
     "execution_count": 52,
     "metadata": {},
     "output_type": "execute_result"
    },
    {
     "data": {
      "image/png": "[encoded data removed]",
      "text/plain": [
       "<Figure size 640x480 with 1 Axes>"
      ]
     },
     "metadata": {},
     "output_type": "display_data"
    }
   ],
   "source": [
    "class_names = list(dict_class_counts.keys())\n",
    "class_counts = list(dict_class_counts.values())\n",
    "\n",
    "class_names.sort()\n",
    "class_counts.sort()\n",
    "\n",
    "plt.bar(class_names, class_counts)\n",
    "plt.xticks(rotation=90)"
   ]
  },
  {
   "cell_type": "code",
   "execution_count": null,
   "id": "83c8bc53-9d1a-4123-bdf7-702fafd514f3",
   "metadata": {},
   "outputs": [],
   "source": []
  },
  {
   "cell_type": "code",
   "execution_count": 24,
   "id": "3bf71ab0-59e1-4d9e-816d-f9fbbe06c923",
   "metadata": {},
   "outputs": [],
   "source": [
    "new_df2.to_csv(\n",
    "    os.path.join(DATA_FOLDER, 'df_train_ohe.csv'), \n",
    "    index=False)"
   ]
  },
  {
   "cell_type": "code",
   "execution_count": null,
   "id": "a9464f0b-c0f8-4073-bf82-e79b6af33b38",
   "metadata": {},
   "outputs": [],
   "source": []
  }
 ],
 "metadata": {
  "kernelspec": {
   "display_name": "Python 3 (ipykernel)",
   "language": "python",
   "name": "python3"
  },
  "language_info": {
   "codemirror_mode": {
    "name": "ipython",
    "version": 3
   },
   "file_extension": ".py",
   "mimetype": "text/x-python",
   "name": "python",
   "nbconvert_exporter": "python",
   "pygments_lexer": "ipython3",
   "version": "3.11.3"
  }
 },
 "nbformat": 4,
 "nbformat_minor": 5
}
